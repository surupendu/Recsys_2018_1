{
 "cells": [
  {
   "cell_type": "code",
   "execution_count": 1,
   "metadata": {},
   "outputs": [],
   "source": [
    "import numpy as np\n",
    "import json\n",
    "import os\n",
    "import re\n",
    "import collections\n",
    "from sklearn.datasets.base import load_files\n",
    "from sklearn.model_selection import train_test_split\n",
    "from sklearn.feature_extraction.text import CountVectorizer\n",
    "import codecs\n",
    "import pickle\n",
    "from gensim.models.word2vec import LineSentence\n",
    "from gensim.models.fasttext import FastText\n",
    "import sys\n",
    "from __future__ import division\n",
    "from collections import OrderedDict\n",
    "import pandas as pd\n",
    "from sklearn.datasets import load_files\n",
    "from collections import OrderedDict"
   ]
  },
  {
   "cell_type": "code",
   "execution_count": 2,
   "metadata": {},
   "outputs": [],
   "source": [
    "from surprise import NormalPredictor\n",
    "from surprise import Dataset\n",
    "from surprise import Reader\n",
    "from surprise.model_selection import cross_validate\n",
    "from surprise.prediction_algorithms.matrix_factorization import SVD\n",
    "from surprise.model_selection import KFold\n",
    "from surprise import accuracy"
   ]
  },
  {
   "cell_type": "code",
   "execution_count": 3,
   "metadata": {},
   "outputs": [],
   "source": [
    "def normalize_name(name):\n",
    "    name = name.lower()\n",
    "    name = re.sub(r\"[.,\\/#!$%\\^\\*;:{}=\\_`~()@]\", ' ', name)\n",
    "    name = re.sub(r'\\s+', ' ', name).strip()\n",
    "    return name"
   ]
  },
  {
   "cell_type": "code",
   "execution_count": 4,
   "metadata": {},
   "outputs": [],
   "source": [
    "#Load Training Data change path name as per your directory\n",
    "path = '/home/irlab/Documents/recsys/mpd/data'\n",
    "filenames = os.listdir(path)\n",
    "mapping = {}\n",
    "playlist_prob = OrderedDict()"
   ]
  },
  {
   "cell_type": "code",
   "execution_count": 5,
   "metadata": {},
   "outputs": [],
   "source": [
    "#Train FastText Model for finding similarity\n",
    "def train_playlist_embedding(filenames):    \n",
    "    data = LineSentence('/home/irlab/files/data.txt')\n",
    "    model = FastText(size=100)\n",
    "    print('Building Vocab....')\n",
    "    model.build_vocab(data)\n",
    "    print('Training....')\n",
    "    model.train(data, total_examples=model.corpus_count, epochs=model.iter)\n",
    "    print(model)\n",
    "    return model"
   ]
  },
  {
   "cell_type": "code",
   "execution_count": 6,
   "metadata": {},
   "outputs": [
    {
     "name": "stdout",
     "output_type": "stream",
     "text": [
      "Building Vocab....\n",
      "Training....\n"
     ]
    },
    {
     "name": "stderr",
     "output_type": "stream",
     "text": [
      "/home/irlab/anaconda2/lib/python2.7/site-packages/ipykernel_launcher.py:8: DeprecationWarning: Call to deprecated `iter` (Attribute will be removed in 4.0.0, use self.epochs instead).\n",
      "  \n"
     ]
    },
    {
     "name": "stdout",
     "output_type": "stream",
     "text": [
      "FastText(vocab=9132, size=100, alpha=0.025)\n"
     ]
    }
   ],
   "source": [
    "#print(train_data)\n",
    "model = train_playlist_embedding(filenames)"
   ]
  },
  {
   "cell_type": "code",
   "execution_count": 7,
   "metadata": {},
   "outputs": [],
   "source": [
    "#Find Similar Playlists with given name\n",
    "def find_similar(playlist_name,model = model):\n",
    "    names = []\n",
    "    similar_playlists = model.wv.similar_by_word(playlist_name,20)\n",
    "    similar_playlists = dict(similar_playlists)\n",
    "    sim_playlist_name = [key for (key,value) in sorted(similar_playlists.items(),key=lambda x:x[1],reverse=True)]\n",
    "    return sim_playlist_name"
   ]
  },
  {
   "cell_type": "code",
   "execution_count": 8,
   "metadata": {},
   "outputs": [],
   "source": [
    "#Mapping of playlist name to filename\n",
    "def load_filemapping():\n",
    "    #Change this as per you files folder location\n",
    "    fp = open('/home/irlab/files/mappings/track_filename.json')\n",
    "    mpd_mapping = json.load(fp)\n",
    "    return mpd_mapping"
   ]
  },
  {
   "cell_type": "code",
   "execution_count": 9,
   "metadata": {},
   "outputs": [],
   "source": [
    "mpd_mapping = load_filemapping()"
   ]
  },
  {
   "cell_type": "code",
   "execution_count": 10,
   "metadata": {},
   "outputs": [
    {
     "name": "stdout",
     "output_type": "stream",
     "text": [
      "(66346428, 66346428, 66346428)\n"
     ]
    }
   ],
   "source": [
    "#Change this as per you files folder location\n",
    "fp = open('/home/irlab/files/stats/album_stats.json')\n",
    "album_map = json.load(fp)\n",
    "album_stat = sum(album_map.values())\n",
    "\n",
    "#Change this as per you files folder location\n",
    "fp = open('/home/irlab/files/stats/artist_stats.json')\n",
    "artist_map = json.load(fp)\n",
    "artist_stat = sum(artist_map.values())\n",
    "\n",
    "#Change this as per you files folder location\n",
    "fp = open('/home/irlab/files/stats/tracks_stats.json')\n",
    "track_map = json.load(fp)\n",
    "track_stat = sum(track_map.values())\n",
    "\n",
    "print(album_stat,artist_stat,track_stat)"
   ]
  },
  {
   "cell_type": "code",
   "execution_count": 11,
   "metadata": {},
   "outputs": [],
   "source": [
    "#Generate weights for the tracks\n",
    "def create_weighted_playlists(playlist_name,playlist_prob):\n",
    "    try:\n",
    "        similar_playlists = find_similar(playlist_name)\n",
    "    except KeyError:\n",
    "        temp = playlist_name.split()\n",
    "        playlist_name = ''.join(temp)\n",
    "        similar_playlists = find_similar(playlist_name)\n",
    "        \n",
    "    #print(similar_playlists)\n",
    "    for similar_playlist in similar_playlists:\n",
    "        if similar_playlist in mpd_mapping.keys():    \n",
    "            #print(similar_playlist)\n",
    "            name = mpd_mapping[similar_playlist]\n",
    "            filename = os.sep.join((path,name))\n",
    "            fp = open(filename,'r')\n",
    "            playlist_file = json.load(fp)\n",
    "            mpd_data = playlist_file['playlists']\n",
    "            playlist_prob[similar_playlist] = {}\n",
    "            for playlist in mpd_data:\n",
    "                if normalize_name(playlist['name']) in similar_playlist:\n",
    "                    for track in playlist['tracks']:\n",
    "                        p1 = artist_map[track['artist_uri']]/artist_stat\n",
    "                        p2 = album_map[track['album_uri']]/album_stat\n",
    "                        p3 = track_map[track['track_uri']]/track_stat\n",
    "                        playlist_prob[similar_playlist][track['track_uri']] = (p1+p2+p3)/(1+track['pos'])\n",
    "                        #print(playlist_prob[similar_playlist])\n",
    "    return playlist_prob"
   ]
  },
  {
   "cell_type": "code",
   "execution_count": 12,
   "metadata": {},
   "outputs": [],
   "source": [
    "#Create Rating matrix\n",
    "def create_matrix(playlist_prob):\n",
    "    pd.DataFrame(data=playlist_prob,dtype=np.int64)\n",
    "    df = pd.DataFrame(data=playlist_prob)\n",
    "    df = df.fillna(0)\n",
    "    df = df.T\n",
    "    return df"
   ]
  },
  {
   "cell_type": "code",
   "execution_count": 13,
   "metadata": {},
   "outputs": [],
   "source": [
    "#Change this path as per your system\n",
    "path1 = '/home/irlab/Documents/recsys/challenge'\n",
    "challenge_file = 'challenge_set.json'\n",
    "filename = os.sep.join((path1,challenge_file))\n",
    "fp = open(filename)\n",
    "challenge_set = json.load(fp)\n",
    "playlists = challenge_set['playlists']\n",
    "dict_playlist = {}"
   ]
  },
  {
   "cell_type": "code",
   "execution_count": 14,
   "metadata": {},
   "outputs": [],
   "source": [
    "#Load Data in surprise format\n",
    "def load_data(tracks,playlists,ratings):\n",
    "    ratings_dict = {'itemID': tracks,\n",
    "                    'userID': playlists,\n",
    "                    'rating': ratings}\n",
    "    df1 = pd.DataFrame(ratings_dict)\n",
    "    reader = Reader(rating_scale=(0,1))\n",
    "    data = Dataset.load_from_df(df1[['userID','itemID','rating']],reader)\n",
    "    #print(df1)\n",
    "    return data"
   ]
  },
  {
   "cell_type": "code",
   "execution_count": 15,
   "metadata": {},
   "outputs": [],
   "source": [
    "#Train using SVD and Gradient Descent\n",
    "def train(data):\n",
    "    kf = KFold(n_splits=10)\n",
    "    algo = SVD(n_epochs=35,lr_all=0.007,reg_all=0.065)\n",
    "    for trainset,testset in kf.split(data):\n",
    "        algo.fit(trainset)\n",
    "        prediction = algo.test(testset)\n",
    "        print(accuracy.rmse(prediction,verbose=True))\n",
    "    return algo"
   ]
  },
  {
   "cell_type": "code",
   "execution_count": 16,
   "metadata": {},
   "outputs": [],
   "source": [
    "#Predict ratings for unknown tracks and filter them out\n",
    "def test(playlist_name,tracks,algo,seed_tracks):\n",
    "    tracks_pred = [n for n in tracks if n not in seed_tracks]\n",
    "    Recommend = {}\n",
    "    for track in tracks_pred:\n",
    "        predict = algo.predict(playlist_name,track)\n",
    "        Recommend[track] = predict[3]\n",
    "    recommend_list = [key for (key,value) in sorted(Recommend.items(),key=lambda x:x[1],reverse=True)]\n",
    "    return recommend_list"
   ]
  },
  {
   "cell_type": "code",
   "execution_count": 17,
   "metadata": {},
   "outputs": [],
   "source": [
    "#If we fall short of 500 tracks pick popular tracks\n",
    "def random_tracks(recommend_list,seed_tracks):\n",
    "    tracks = [key for (key,value) in sorted(track_map.items(),key=lambda x:x[1],reverse=True)]\n",
    "    extend_tracks = [track for track in tracks if track not in recommend_list]\n",
    "    extend_tracks = [track for track in extend_tracks if track not in seed_tracks]\n",
    "    diff = 500 - len(recommend_list)\n",
    "    print(len(extend_tracks[0:diff]))\n",
    "    for name in extend_tracks[0:diff]:\n",
    "        print(name)\n",
    "        recommend_list.append(name)\n",
    "    return recommend_list"
   ]
  },
  {
   "cell_type": "code",
   "execution_count": 18,
   "metadata": {},
   "outputs": [],
   "source": [
    "import csv"
   ]
  },
  {
   "cell_type": "code",
   "execution_count": 19,
   "metadata": {
    "scrolled": true
   },
   "outputs": [
    {
     "name": "stdout",
     "output_type": "stream",
     "text": [
      "(1, u'Party')\n",
      "Finding Similar Playlists...\n"
     ]
    },
    {
     "ename": "KeyboardInterrupt",
     "evalue": "",
     "output_type": "error",
     "traceback": [
      "\u001b[0;31m---------------------------------------------------------------------------\u001b[0m",
      "\u001b[0;31mKeyboardInterrupt\u001b[0m                         Traceback (most recent call last)",
      "\u001b[0;32m<ipython-input-19-7f99e9569dda>\u001b[0m in \u001b[0;36m<module>\u001b[0;34m()\u001b[0m\n\u001b[1;32m     29\u001b[0m         \u001b[0;31m#print(seed_tracks)\u001b[0m\u001b[0;34m\u001b[0m\u001b[0;34m\u001b[0m\u001b[0m\n\u001b[1;32m     30\u001b[0m         \u001b[0;32mprint\u001b[0m\u001b[0;34m(\u001b[0m\u001b[0;34m'Finding Similar Playlists...'\u001b[0m\u001b[0;34m)\u001b[0m\u001b[0;34m\u001b[0m\u001b[0m\n\u001b[0;32m---> 31\u001b[0;31m         \u001b[0mplaylist_prob\u001b[0m \u001b[0;34m=\u001b[0m \u001b[0mcreate_weighted_playlists\u001b[0m\u001b[0;34m(\u001b[0m\u001b[0mnormalize_name\u001b[0m\u001b[0;34m(\u001b[0m\u001b[0mplaylist\u001b[0m\u001b[0;34m[\u001b[0m\u001b[0;34m'name'\u001b[0m\u001b[0;34m]\u001b[0m\u001b[0;34m)\u001b[0m\u001b[0;34m,\u001b[0m\u001b[0mplaylist_prob\u001b[0m\u001b[0;34m)\u001b[0m\u001b[0;34m\u001b[0m\u001b[0m\n\u001b[0m\u001b[1;32m     32\u001b[0m         \u001b[0;32mprint\u001b[0m\u001b[0;34m(\u001b[0m\u001b[0;34m'Creating Rating matrix...'\u001b[0m\u001b[0;34m)\u001b[0m\u001b[0;34m\u001b[0m\u001b[0m\n\u001b[1;32m     33\u001b[0m         \u001b[0mdf\u001b[0m \u001b[0;34m=\u001b[0m \u001b[0mcreate_matrix\u001b[0m\u001b[0;34m(\u001b[0m\u001b[0mplaylist_prob\u001b[0m\u001b[0;34m)\u001b[0m\u001b[0;34m\u001b[0m\u001b[0m\n",
      "\u001b[0;32m<ipython-input-11-35ec7e874e92>\u001b[0m in \u001b[0;36mcreate_weighted_playlists\u001b[0;34m(playlist_name, playlist_prob)\u001b[0m\n\u001b[1;32m     15\u001b[0m             \u001b[0mfilename\u001b[0m \u001b[0;34m=\u001b[0m \u001b[0mos\u001b[0m\u001b[0;34m.\u001b[0m\u001b[0msep\u001b[0m\u001b[0;34m.\u001b[0m\u001b[0mjoin\u001b[0m\u001b[0;34m(\u001b[0m\u001b[0;34m(\u001b[0m\u001b[0mpath\u001b[0m\u001b[0;34m,\u001b[0m\u001b[0mname\u001b[0m\u001b[0;34m)\u001b[0m\u001b[0;34m)\u001b[0m\u001b[0;34m\u001b[0m\u001b[0m\n\u001b[1;32m     16\u001b[0m             \u001b[0mfp\u001b[0m \u001b[0;34m=\u001b[0m \u001b[0mopen\u001b[0m\u001b[0;34m(\u001b[0m\u001b[0mfilename\u001b[0m\u001b[0;34m,\u001b[0m\u001b[0;34m'r'\u001b[0m\u001b[0;34m)\u001b[0m\u001b[0;34m\u001b[0m\u001b[0m\n\u001b[0;32m---> 17\u001b[0;31m             \u001b[0mplaylist_file\u001b[0m \u001b[0;34m=\u001b[0m \u001b[0mjson\u001b[0m\u001b[0;34m.\u001b[0m\u001b[0mload\u001b[0m\u001b[0;34m(\u001b[0m\u001b[0mfp\u001b[0m\u001b[0;34m)\u001b[0m\u001b[0;34m\u001b[0m\u001b[0m\n\u001b[0m\u001b[1;32m     18\u001b[0m             \u001b[0mmpd_data\u001b[0m \u001b[0;34m=\u001b[0m \u001b[0mplaylist_file\u001b[0m\u001b[0;34m[\u001b[0m\u001b[0;34m'playlists'\u001b[0m\u001b[0;34m]\u001b[0m\u001b[0;34m\u001b[0m\u001b[0m\n\u001b[1;32m     19\u001b[0m             \u001b[0mplaylist_prob\u001b[0m\u001b[0;34m[\u001b[0m\u001b[0msimilar_playlist\u001b[0m\u001b[0;34m]\u001b[0m \u001b[0;34m=\u001b[0m \u001b[0;34m{\u001b[0m\u001b[0;34m}\u001b[0m\u001b[0;34m\u001b[0m\u001b[0m\n",
      "\u001b[0;32m/home/irlab/anaconda2/lib/python2.7/json/__init__.pyc\u001b[0m in \u001b[0;36mload\u001b[0;34m(fp, encoding, cls, object_hook, parse_float, parse_int, parse_constant, object_pairs_hook, **kw)\u001b[0m\n\u001b[1;32m    289\u001b[0m         \u001b[0mparse_float\u001b[0m\u001b[0;34m=\u001b[0m\u001b[0mparse_float\u001b[0m\u001b[0;34m,\u001b[0m \u001b[0mparse_int\u001b[0m\u001b[0;34m=\u001b[0m\u001b[0mparse_int\u001b[0m\u001b[0;34m,\u001b[0m\u001b[0;34m\u001b[0m\u001b[0m\n\u001b[1;32m    290\u001b[0m         \u001b[0mparse_constant\u001b[0m\u001b[0;34m=\u001b[0m\u001b[0mparse_constant\u001b[0m\u001b[0;34m,\u001b[0m \u001b[0mobject_pairs_hook\u001b[0m\u001b[0;34m=\u001b[0m\u001b[0mobject_pairs_hook\u001b[0m\u001b[0;34m,\u001b[0m\u001b[0;34m\u001b[0m\u001b[0m\n\u001b[0;32m--> 291\u001b[0;31m         **kw)\n\u001b[0m\u001b[1;32m    292\u001b[0m \u001b[0;34m\u001b[0m\u001b[0m\n\u001b[1;32m    293\u001b[0m \u001b[0;34m\u001b[0m\u001b[0m\n",
      "\u001b[0;32m/home/irlab/anaconda2/lib/python2.7/json/__init__.pyc\u001b[0m in \u001b[0;36mloads\u001b[0;34m(s, encoding, cls, object_hook, parse_float, parse_int, parse_constant, object_pairs_hook, **kw)\u001b[0m\n\u001b[1;32m    337\u001b[0m             \u001b[0mparse_int\u001b[0m \u001b[0;32mis\u001b[0m \u001b[0mNone\u001b[0m \u001b[0;32mand\u001b[0m \u001b[0mparse_float\u001b[0m \u001b[0;32mis\u001b[0m \u001b[0mNone\u001b[0m \u001b[0;32mand\u001b[0m\u001b[0;34m\u001b[0m\u001b[0m\n\u001b[1;32m    338\u001b[0m             parse_constant is None and object_pairs_hook is None and not kw):\n\u001b[0;32m--> 339\u001b[0;31m         \u001b[0;32mreturn\u001b[0m \u001b[0m_default_decoder\u001b[0m\u001b[0;34m.\u001b[0m\u001b[0mdecode\u001b[0m\u001b[0;34m(\u001b[0m\u001b[0ms\u001b[0m\u001b[0;34m)\u001b[0m\u001b[0;34m\u001b[0m\u001b[0m\n\u001b[0m\u001b[1;32m    340\u001b[0m     \u001b[0;32mif\u001b[0m \u001b[0mcls\u001b[0m \u001b[0;32mis\u001b[0m \u001b[0mNone\u001b[0m\u001b[0;34m:\u001b[0m\u001b[0;34m\u001b[0m\u001b[0m\n\u001b[1;32m    341\u001b[0m         \u001b[0mcls\u001b[0m \u001b[0;34m=\u001b[0m \u001b[0mJSONDecoder\u001b[0m\u001b[0;34m\u001b[0m\u001b[0m\n",
      "\u001b[0;32m/home/irlab/anaconda2/lib/python2.7/json/decoder.pyc\u001b[0m in \u001b[0;36mdecode\u001b[0;34m(self, s, _w)\u001b[0m\n\u001b[1;32m    362\u001b[0m \u001b[0;34m\u001b[0m\u001b[0m\n\u001b[1;32m    363\u001b[0m         \"\"\"\n\u001b[0;32m--> 364\u001b[0;31m         \u001b[0mobj\u001b[0m\u001b[0;34m,\u001b[0m \u001b[0mend\u001b[0m \u001b[0;34m=\u001b[0m \u001b[0mself\u001b[0m\u001b[0;34m.\u001b[0m\u001b[0mraw_decode\u001b[0m\u001b[0;34m(\u001b[0m\u001b[0ms\u001b[0m\u001b[0;34m,\u001b[0m \u001b[0midx\u001b[0m\u001b[0;34m=\u001b[0m\u001b[0m_w\u001b[0m\u001b[0;34m(\u001b[0m\u001b[0ms\u001b[0m\u001b[0;34m,\u001b[0m \u001b[0;36m0\u001b[0m\u001b[0;34m)\u001b[0m\u001b[0;34m.\u001b[0m\u001b[0mend\u001b[0m\u001b[0;34m(\u001b[0m\u001b[0;34m)\u001b[0m\u001b[0;34m)\u001b[0m\u001b[0;34m\u001b[0m\u001b[0m\n\u001b[0m\u001b[1;32m    365\u001b[0m         \u001b[0mend\u001b[0m \u001b[0;34m=\u001b[0m \u001b[0m_w\u001b[0m\u001b[0;34m(\u001b[0m\u001b[0ms\u001b[0m\u001b[0;34m,\u001b[0m \u001b[0mend\u001b[0m\u001b[0;34m)\u001b[0m\u001b[0;34m.\u001b[0m\u001b[0mend\u001b[0m\u001b[0;34m(\u001b[0m\u001b[0;34m)\u001b[0m\u001b[0;34m\u001b[0m\u001b[0m\n\u001b[1;32m    366\u001b[0m         \u001b[0;32mif\u001b[0m \u001b[0mend\u001b[0m \u001b[0;34m!=\u001b[0m \u001b[0mlen\u001b[0m\u001b[0;34m(\u001b[0m\u001b[0ms\u001b[0m\u001b[0;34m)\u001b[0m\u001b[0;34m:\u001b[0m\u001b[0;34m\u001b[0m\u001b[0m\n",
      "\u001b[0;32m/home/irlab/anaconda2/lib/python2.7/json/decoder.pyc\u001b[0m in \u001b[0;36mraw_decode\u001b[0;34m(self, s, idx)\u001b[0m\n\u001b[1;32m    378\u001b[0m         \"\"\"\n\u001b[1;32m    379\u001b[0m         \u001b[0;32mtry\u001b[0m\u001b[0;34m:\u001b[0m\u001b[0;34m\u001b[0m\u001b[0m\n\u001b[0;32m--> 380\u001b[0;31m             \u001b[0mobj\u001b[0m\u001b[0;34m,\u001b[0m \u001b[0mend\u001b[0m \u001b[0;34m=\u001b[0m \u001b[0mself\u001b[0m\u001b[0;34m.\u001b[0m\u001b[0mscan_once\u001b[0m\u001b[0;34m(\u001b[0m\u001b[0ms\u001b[0m\u001b[0;34m,\u001b[0m \u001b[0midx\u001b[0m\u001b[0;34m)\u001b[0m\u001b[0;34m\u001b[0m\u001b[0m\n\u001b[0m\u001b[1;32m    381\u001b[0m         \u001b[0;32mexcept\u001b[0m \u001b[0mStopIteration\u001b[0m\u001b[0;34m:\u001b[0m\u001b[0;34m\u001b[0m\u001b[0m\n\u001b[1;32m    382\u001b[0m             \u001b[0;32mraise\u001b[0m \u001b[0mValueError\u001b[0m\u001b[0;34m(\u001b[0m\u001b[0;34m\"No JSON object could be decoded\"\u001b[0m\u001b[0;34m)\u001b[0m\u001b[0;34m\u001b[0m\u001b[0m\n",
      "\u001b[0;31mKeyboardInterrupt\u001b[0m: "
     ]
    }
   ],
   "source": [
    "#string = ['team_info','main','Dark_Horse_1','201711040@daiict.ac.in']\n",
    "\n",
    "#with open('/home/irlab/Documents/recsys/mpd/codes/output/output1.csv','w') as csvfile:\n",
    "#        filewriter = csv.writer(csvfile,delimiter = ',')\n",
    "#        filewriter.writerow(string)\n",
    "\n",
    "count=0\n",
    "for playlist in playlists:\n",
    "    list_temp = []\n",
    "    seed_tracks = []\n",
    "    recommend_list = []\n",
    "    if playlist['name'] and playlist['num_samples'] == 5:\n",
    "        pid = playlist['pid']\n",
    "        list_temp.insert(0,pid)\n",
    "        count+=1\n",
    "        i=0\n",
    "        print(count,playlist['name'])\n",
    "        #if count >= 637:\n",
    "        tracks = playlist['tracks']\n",
    "        playlist_prob.clear()\n",
    "        playlist_prob[normalize_name(playlist['name'])] = {}\n",
    "        for track in tracks:\n",
    "            p1 = artist_map[track['artist_uri']]/artist_stat\n",
    "            p2 = album_map[track['album_uri']]/album_stat\n",
    "            p3 = track_map[track['track_uri']]/track_stat\n",
    "            seed_tracks.insert(i,track['track_uri'])\n",
    "            playlist_prob[normalize_name(playlist['name'])][track['track_uri']] = (p1+p2+p3)/(1+track['pos'])\n",
    "            i+=1\n",
    "        #print(seed_tracks)\n",
    "        print('Finding Similar Playlists...')\n",
    "        playlist_prob = create_weighted_playlists(normalize_name(playlist['name']),playlist_prob)\n",
    "        print('Creating Rating matrix...')\n",
    "        df = create_matrix(playlist_prob)\n",
    "        column_names = list(df.columns)\n",
    "        row_names = list(df.index)\n",
    "        matrix = df.values\n",
    "        row,col = np.nonzero(matrix)\n",
    "        row = row.tolist()\n",
    "        col = col.tolist()\n",
    "        n_tracks = [column_names[i] for i in col]\n",
    "        playlists = [row_names[i] for i in row]\n",
    "        ratings = [matrix[r][c] for (r,c) in zip(row,col)]\n",
    "        print('Loading data for training')\n",
    "        data = load_data(n_tracks,playlists,ratings)\n",
    "        print('Training....')\n",
    "        algo = train(data)\n",
    "        print('Predicting....')\n",
    "        recommend_list = test(normalize_name(playlist['name']),n_tracks,algo,seed_tracks)\n",
    "        print('Playlist Size:',len(recommend_list))\n",
    "        if len(recommend_list[0:500])<500:\n",
    "            print('Picking popular tracks...')\n",
    "            recommend_list = random_tracks(recommend_list,seed_tracks)\n",
    "            print('New Playlist Size:',len(recommend_list))\n",
    "        list_temp.extend(recommend_list[0:500])\n",
    "        print('Writing to file.....')\n",
    "        #Change this path as per your system\n",
    "        with open('/home/irlab/Documents/recsys/mpd/codes/output/final_submission.csv','a') as csvfile1:\n",
    "            filewriter = csv.writer(csvfile1,delimiter = ',')\n",
    "            filewriter.writerow(list_temp)"
   ]
  },
  {
   "cell_type": "code",
   "execution_count": null,
   "metadata": {},
   "outputs": [],
   "source": []
  }
 ],
 "metadata": {
  "kernelspec": {
   "display_name": "Python 2",
   "language": "python",
   "name": "python2"
  },
  "language_info": {
   "codemirror_mode": {
    "name": "ipython",
    "version": 2
   },
   "file_extension": ".py",
   "mimetype": "text/x-python",
   "name": "python",
   "nbconvert_exporter": "python",
   "pygments_lexer": "ipython2",
   "version": "2.7.15"
  }
 },
 "nbformat": 4,
 "nbformat_minor": 2
}
